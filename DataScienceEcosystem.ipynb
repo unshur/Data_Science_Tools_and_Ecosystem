{
 "cells": [
  {
   "cell_type": "markdown",
   "id": "81e36fd9-0fe1-438c-ba89-da344bf7c77e",
   "metadata": {},
   "source": [
    "# **Data Science Tools and Ecosystem**"
   ]
  },
  {
   "cell_type": "markdown",
   "id": "05b76486-49e9-4eef-a13e-e6b1655c4763",
   "metadata": {},
   "source": [
    "----"
   ]
  },
  {
   "cell_type": "markdown",
   "id": "a075d278-a7fa-4f11-aa3d-e47117aade91",
   "metadata": {},
   "source": [
    "In this notebook, Data Science Tools and Ecosystem are summarized."
   ]
  },
  {
   "cell_type": "markdown",
   "id": "9cd840cb-d6b1-407b-bb45-e90feb6ff8b7",
   "metadata": {},
   "source": [
    "**Objectives:**\n",
    "\n",
    "* List popular languages for data science.\n",
    "* List popular libraries for data science.\n",
    "* Mention some major open source development environment tools used in data science."
   ]
  },
  {
   "cell_type": "markdown",
   "id": "48511e7a-24b4-41cf-81ac-b9dfb06e75bf",
   "metadata": {},
   "source": [
    "----"
   ]
  },
  {
   "cell_type": "markdown",
   "id": "66adc511-4eb9-4cce-8e75-36964df25aa9",
   "metadata": {},
   "source": [
    "### Data Science Languages\n",
    "\n",
    "Some of the popular languages that Data Scientists use are:\n",
    "\n",
    "1. Python\n",
    "2. SQL\n",
    "3. R\n",
    "4. Scala\n",
    "5. Java\n",
    "6. Julia\n"
   ]
  },
  {
   "cell_type": "markdown",
   "id": "6d6e2a7d-4100-4095-8c48-f2ae45ee737e",
   "metadata": {},
   "source": [
    "### Data Science Libraries\n",
    "\n",
    "Some of the commonly used libraries by Data Scientists include:\n",
    "\n",
    "1. NumPy\n",
    "2. Pandas\n",
    "3. SciPy\n",
    "4. Matplotlib\n",
    "5. Seaborn\n",
    "6. Plotly\n",
    "7. ggplot2\n",
    "8. statsmodels\n",
    "9. Scikit-learn\n",
    "10. PyTorch\n",
    "11. Keras\n",
    "12. TensorFlow\n",
    "13. XGBoost\n",
    "14. NLTK\n",
    "15. spaCy\n",
    "16. Scrapy\n",
    "17. BeautifulSoup"
   ]
  },
  {
   "cell_type": "markdown",
   "id": "a7a359fd-fe3e-4aed-99dd-7302d890cb59",
   "metadata": {},
   "source": [
    "### Data Science Tools\n",
    "\n",
    "The following table shows some development environment open source tools used in data science.\n",
    "\n",
    "\n",
    "    \n",
    "| Data Science Tools |\n",
    "|:------------------:|\n",
    "| Jupyter |\n",
    "| RStudio |\n",
    "| Apache Zeppelin |\n",
    "\n",
    "\n"
   ]
  },
  {
   "cell_type": "markdown",
   "id": "f0aee4a4-d75f-4d3f-90f4-15fa3efe690a",
   "metadata": {},
   "source": [
    "---"
   ]
  },
  {
   "cell_type": "markdown",
   "id": "cf52209f-61a6-495d-9137-24324458d34c",
   "metadata": {},
   "source": [
    "### Evaluating arithmetic expressions in Python."
   ]
  },
  {
   "cell_type": "code",
   "execution_count": 5,
   "id": "cf7fc312-27f2-4c99-9a36-273790d73588",
   "metadata": {},
   "outputs": [
    {
     "data": {
      "text/plain": [
       "17"
      ]
     },
     "execution_count": 5,
     "metadata": {},
     "output_type": "execute_result"
    }
   ],
   "source": [
    "# This a simple arithmetic expression to multiply and then add integers\n",
    "\n",
    "(3*4)+5"
   ]
  },
  {
   "cell_type": "code",
   "execution_count": 30,
   "id": "0807fb1c-d02b-43f5-b47d-eb8a6c64c587",
   "metadata": {},
   "outputs": [
    {
     "data": {
      "text/plain": [
       "3.3333333333333335"
      ]
     },
     "execution_count": 30,
     "metadata": {},
     "output_type": "execute_result"
    }
   ],
   "source": [
    "# This will convert 200 minutes to hours by diving by 60\n",
    "\n",
    "200/60"
   ]
  },
  {
   "cell_type": "markdown",
   "id": "fa37afdb-ae36-4b51-aa05-956cacedc848",
   "metadata": {},
   "source": [
    "---"
   ]
  },
  {
   "cell_type": "markdown",
   "id": "d8ddb3e7-63f5-4fbd-a62e-e5c1e20dc387",
   "metadata": {},
   "source": [
    "## Author\n",
    "\n",
    "\n",
    "\n",
    "Ahmed Unshur"
   ]
  }
 ],
 "metadata": {
  "kernelspec": {
   "display_name": "Python 3 (ipykernel)",
   "language": "python",
   "name": "python3"
  },
  "language_info": {
   "codemirror_mode": {
    "name": "ipython",
    "version": 3
   },
   "file_extension": ".py",
   "mimetype": "text/x-python",
   "name": "python",
   "nbconvert_exporter": "python",
   "pygments_lexer": "ipython3",
   "version": "3.10.12"
  }
 },
 "nbformat": 4,
 "nbformat_minor": 5
}
